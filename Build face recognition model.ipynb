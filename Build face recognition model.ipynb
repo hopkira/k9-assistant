{
 "cells": [
  {
   "cell_type": "code",
   "execution_count": 1,
   "metadata": {},
   "outputs": [],
   "source": [
    "import tensorflow as tf"
   ]
  },
  {
   "cell_type": "code",
   "execution_count": 2,
   "metadata": {},
   "outputs": [],
   "source": [
    "import os"
   ]
  },
  {
   "cell_type": "code",
   "execution_count": 3,
   "metadata": {},
   "outputs": [],
   "source": [
    "import numpy as np\n",
    "import matplotlib.pyplot as plt\n",
    "%matplotlib inline"
   ]
  },
  {
   "cell_type": "code",
   "execution_count": 4,
   "metadata": {},
   "outputs": [],
   "source": [
    "directory =r\"/Users/richardhopkins/Documents/GitHub/k9-assistant/data/\""
   ]
  },
  {
   "cell_type": "code",
   "execution_count": 5,
   "metadata": {},
   "outputs": [],
   "source": [
    "SIZE = 224"
   ]
  },
  {
   "cell_type": "code",
   "execution_count": 6,
   "metadata": {},
   "outputs": [],
   "source": [
    "BATCH_SIZE = 1"
   ]
  },
  {
   "cell_type": "code",
   "execution_count": 7,
   "metadata": {},
   "outputs": [],
   "source": [
    "image_conv = tf.keras.preprocessing.image.ImageDataGenerator(validation_split=0.3)"
   ]
  },
  {
   "cell_type": "code",
   "execution_count": 8,
   "metadata": {},
   "outputs": [
    {
     "name": "stdout",
     "output_type": "stream",
     "text": [
      "Found 7 images belonging to 1 classes.\n"
     ]
    }
   ],
   "source": [
    "train_data = image_conv.flow_from_directory(\n",
    "    directory, \n",
    "    target_size=(SIZE, SIZE), \n",
    "    color_mode='rgb', \n",
    "    classes=None, \n",
    "    class_mode='categorical', \n",
    "    batch_size= BATCH_SIZE, \n",
    "    shuffle=True,\n",
    "    subset = 'training'\n",
    "    )"
   ]
  },
  {
   "cell_type": "code",
   "execution_count": 9,
   "metadata": {},
   "outputs": [
    {
     "name": "stdout",
     "output_type": "stream",
     "text": [
      "Found 3 images belonging to 1 classes.\n"
     ]
    }
   ],
   "source": [
    "test_data = image_conv.flow_from_directory(\n",
    "    directory, \n",
    "    target_size=(SIZE, SIZE), \n",
    "    color_mode='rgb', \n",
    "    classes=None, \n",
    "    class_mode='categorical', \n",
    "    batch_size=BATCH_SIZE, \n",
    "    shuffle=True,\n",
    "    subset = 'validation'\n",
    ")"
   ]
  },
  {
   "cell_type": "code",
   "execution_count": 10,
   "metadata": {},
   "outputs": [],
   "source": [
    "input_shape = train_data.image_shape"
   ]
  },
  {
   "cell_type": "code",
   "execution_count": 11,
   "metadata": {},
   "outputs": [],
   "source": [
    "base_model = tf.keras.applications.MobileNetV2(\n",
    "    input_shape=input_shape,\n",
    "    include_top=False,\n",
    "    weights='imagenet')"
   ]
  },
  {
   "cell_type": "code",
   "execution_count": 12,
   "metadata": {},
   "outputs": [],
   "source": [
    "base_model.trainable = False"
   ]
  },
  {
   "cell_type": "code",
   "execution_count": 13,
   "metadata": {},
   "outputs": [],
   "source": [
    "model = tf.keras.Sequential([\n",
    "    base_model,\n",
    "    tf.keras.layers.Conv2D(32, 3, activation='relu'),\n",
    "    tf.keras.layers.Dropout(0.2),\n",
    "    tf.keras.layers.GlobalAveragePooling2D(),\n",
    "    tf.keras.layers.Dense(3, activation='softmax')\n",
    "])"
   ]
  },
  {
   "cell_type": "code",
   "execution_count": 14,
   "metadata": {},
   "outputs": [],
   "source": [
    "model.compile(optimizer=tf.keras.optimizers.Adam(),\n",
    "              loss='binary_crossentropy',\n",
    "              metrics=['accuracy'])"
   ]
  },
  {
   "cell_type": "code",
   "execution_count": 15,
   "metadata": {},
   "outputs": [
    {
     "name": "stdout",
     "output_type": "stream",
     "text": [
      "Model: \"sequential\"\n",
      "_________________________________________________________________\n",
      "Layer (type)                 Output Shape              Param #   \n",
      "=================================================================\n",
      "mobilenetv2_1.00_224 (Model) (None, 7, 7, 1280)        2257984   \n",
      "_________________________________________________________________\n",
      "conv2d (Conv2D)              (None, 5, 5, 32)          368672    \n",
      "_________________________________________________________________\n",
      "dropout (Dropout)            (None, 5, 5, 32)          0         \n",
      "_________________________________________________________________\n",
      "global_average_pooling2d (Gl (None, 32)                0         \n",
      "_________________________________________________________________\n",
      "dense (Dense)                (None, 3)                 99        \n",
      "=================================================================\n",
      "Total params: 2,626,755\n",
      "Trainable params: 368,771\n",
      "Non-trainable params: 2,257,984\n",
      "_________________________________________________________________\n"
     ]
    }
   ],
   "source": [
    "model.summary()"
   ]
  },
  {
   "cell_type": "code",
   "execution_count": 16,
   "metadata": {},
   "outputs": [
    {
     "name": "stdout",
     "output_type": "stream",
     "text": [
      "Number of trainable variables = 4\n"
     ]
    }
   ],
   "source": [
    "print('Number of trainable variables = {}'.format(len(model.trainable_variables)))"
   ]
  },
  {
   "cell_type": "code",
   "execution_count": 17,
   "metadata": {},
   "outputs": [],
   "source": [
    "epochs = 50"
   ]
  },
  {
   "cell_type": "code",
   "execution_count": 18,
   "metadata": {},
   "outputs": [
    {
     "name": "stdout",
     "output_type": "stream",
     "text": [
      "Epoch 1/50\n",
      "7/7 [==============================] - 1s 166ms/step - loss: 3.5370 - accuracy: 0.2857 - val_accuracy: 0.0000e+00 - val_loss: 2.6216\n",
      "Epoch 2/50\n",
      "7/7 [==============================] - 0s 60ms/step - loss: 2.2190 - accuracy: 0.4286 - val_accuracy: 0.3333 - val_loss: 1.2651\n",
      "Epoch 3/50\n",
      "7/7 [==============================] - 0s 59ms/step - loss: 1.7964 - accuracy: 0.0000e+00 - val_accuracy: 1.0000 - val_loss: 1.7488\n",
      "Epoch 4/50\n",
      "7/7 [==============================] - 0s 58ms/step - loss: 1.9477 - accuracy: 0.8571 - val_accuracy: 0.3333 - val_loss: 1.3403\n",
      "Epoch 5/50\n",
      "7/7 [==============================] - 0s 58ms/step - loss: 1.5285 - accuracy: 0.0000e+00 - val_accuracy: 0.0000e+00 - val_loss: 1.2187\n",
      "Epoch 6/50\n",
      "7/7 [==============================] - 0s 61ms/step - loss: 1.3152 - accuracy: 0.4286 - val_accuracy: 0.3333 - val_loss: 1.3408\n",
      "Epoch 7/50\n",
      "7/7 [==============================] - 0s 60ms/step - loss: 1.3432 - accuracy: 0.4286 - val_accuracy: 0.0000e+00 - val_loss: 1.2217\n",
      "Epoch 8/50\n",
      "7/7 [==============================] - 0s 62ms/step - loss: 1.2002 - accuracy: 0.1429 - val_accuracy: 0.3333 - val_loss: 1.1590\n",
      "Epoch 9/50\n",
      "7/7 [==============================] - 0s 55ms/step - loss: 1.1525 - accuracy: 0.7143 - val_accuracy: 0.3333 - val_loss: 1.1016\n",
      "Epoch 10/50\n",
      "7/7 [==============================] - 0s 63ms/step - loss: 1.1794 - accuracy: 0.2857 - val_accuracy: 0.3333 - val_loss: 1.1000\n",
      "Epoch 11/50\n",
      "7/7 [==============================] - 0s 61ms/step - loss: 1.1682 - accuracy: 0.8571 - val_accuracy: 1.0000 - val_loss: 1.1482\n",
      "Epoch 12/50\n",
      "7/7 [==============================] - 0s 60ms/step - loss: 1.1761 - accuracy: 0.1429 - val_accuracy: 0.0000e+00 - val_loss: 1.1413\n",
      "Epoch 13/50\n",
      "7/7 [==============================] - 0s 69ms/step - loss: 1.1317 - accuracy: 0.4286 - val_accuracy: 0.0000e+00 - val_loss: 1.1061\n",
      "Epoch 14/50\n",
      "7/7 [==============================] - 0s 60ms/step - loss: 1.1297 - accuracy: 0.2857 - val_accuracy: 1.0000 - val_loss: 1.1577\n",
      "Epoch 15/50\n",
      "7/7 [==============================] - 0s 68ms/step - loss: 1.1303 - accuracy: 0.5714 - val_accuracy: 1.0000 - val_loss: 1.1053\n",
      "Epoch 16/50\n",
      "7/7 [==============================] - 0s 60ms/step - loss: 1.1175 - accuracy: 0.7143 - val_accuracy: 0.3333 - val_loss: 1.1005\n",
      "Epoch 17/50\n",
      "7/7 [==============================] - 1s 76ms/step - loss: 1.1416 - accuracy: 0.1429 - val_accuracy: 0.3333 - val_loss: 1.1649\n",
      "Epoch 18/50\n",
      "7/7 [==============================] - 0s 55ms/step - loss: 1.1334 - accuracy: 0.4286 - val_accuracy: 0.0000e+00 - val_loss: 1.1138\n",
      "Epoch 19/50\n",
      "7/7 [==============================] - 0s 55ms/step - loss: 1.1294 - accuracy: 0.4286 - val_accuracy: 1.0000 - val_loss: 1.1442\n",
      "Epoch 20/50\n",
      "7/7 [==============================] - 0s 66ms/step - loss: 1.1218 - accuracy: 0.5714 - val_accuracy: 0.3333 - val_loss: 1.1048\n",
      "Epoch 21/50\n",
      "7/7 [==============================] - 0s 56ms/step - loss: 1.1157 - accuracy: 0.2857 - val_accuracy: 1.0000 - val_loss: 1.1521\n",
      "Epoch 22/50\n",
      "7/7 [==============================] - 0s 67ms/step - loss: 1.1097 - accuracy: 0.5714 - val_accuracy: 0.3333 - val_loss: 1.1054\n",
      "Epoch 23/50\n",
      "7/7 [==============================] - 0s 56ms/step - loss: 1.1324 - accuracy: 0.5714 - val_accuracy: 0.3333 - val_loss: 1.1671\n",
      "Epoch 24/50\n",
      "7/7 [==============================] - 0s 55ms/step - loss: 1.1229 - accuracy: 0.4286 - val_accuracy: 0.3333 - val_loss: 1.1325\n",
      "Epoch 25/50\n",
      "7/7 [==============================] - 0s 69ms/step - loss: 1.1207 - accuracy: 0.4286 - val_accuracy: 0.6667 - val_loss: 1.1321\n",
      "Epoch 26/50\n",
      "7/7 [==============================] - 0s 64ms/step - loss: 1.1340 - accuracy: 0.7143 - val_accuracy: 0.0000e+00 - val_loss: 1.1478\n",
      "Epoch 27/50\n",
      "7/7 [==============================] - 0s 67ms/step - loss: 1.1581 - accuracy: 0.4286 - val_accuracy: 0.3333 - val_loss: 1.1729\n",
      "Epoch 28/50\n",
      "7/7 [==============================] - 0s 60ms/step - loss: 1.1224 - accuracy: 0.4286 - val_accuracy: 0.3333 - val_loss: 1.0992\n",
      "Epoch 29/50\n",
      "7/7 [==============================] - 0s 56ms/step - loss: 1.1050 - accuracy: 0.1429 - val_accuracy: 0.0000e+00 - val_loss: 1.0993\n",
      "Epoch 30/50\n",
      "7/7 [==============================] - 0s 63ms/step - loss: 1.1002 - accuracy: 0.0000e+00 - val_accuracy: 0.6667 - val_loss: 1.0986\n",
      "Epoch 31/50\n",
      "7/7 [==============================] - 0s 60ms/step - loss: 1.0991 - accuracy: 0.4286 - val_accuracy: 1.0000 - val_loss: 1.0986\n",
      "Epoch 32/50\n",
      "7/7 [==============================] - 0s 67ms/step - loss: 1.0986 - accuracy: 0.7143 - val_accuracy: 1.0000 - val_loss: 1.0986\n",
      "Epoch 33/50\n",
      "7/7 [==============================] - 0s 64ms/step - loss: 1.0986 - accuracy: 0.8571 - val_accuracy: 1.0000 - val_loss: 1.0986\n",
      "Epoch 34/50\n",
      "7/7 [==============================] - 0s 63ms/step - loss: 1.0986 - accuracy: 1.0000 - val_accuracy: 1.0000 - val_loss: 1.0986\n",
      "Epoch 35/50\n",
      "7/7 [==============================] - 0s 63ms/step - loss: 1.0986 - accuracy: 1.0000 - val_accuracy: 1.0000 - val_loss: 1.0986\n",
      "Epoch 36/50\n",
      "7/7 [==============================] - 0s 64ms/step - loss: 1.0986 - accuracy: 1.0000 - val_accuracy: 1.0000 - val_loss: 1.0986\n",
      "Epoch 37/50\n",
      "7/7 [==============================] - 0s 59ms/step - loss: 1.0986 - accuracy: 1.0000 - val_accuracy: 1.0000 - val_loss: 1.0986\n",
      "Epoch 38/50\n",
      "7/7 [==============================] - 0s 66ms/step - loss: 1.0986 - accuracy: 1.0000 - val_accuracy: 1.0000 - val_loss: 1.0986\n",
      "Epoch 39/50\n",
      "7/7 [==============================] - 0s 66ms/step - loss: 1.0986 - accuracy: 1.0000 - val_accuracy: 1.0000 - val_loss: 1.0986\n",
      "Epoch 40/50\n",
      "7/7 [==============================] - 0s 57ms/step - loss: 1.0986 - accuracy: 1.0000 - val_accuracy: 1.0000 - val_loss: 1.0986\n",
      "Epoch 41/50\n",
      "7/7 [==============================] - 0s 59ms/step - loss: 1.0986 - accuracy: 1.0000 - val_accuracy: 1.0000 - val_loss: 1.0986\n",
      "Epoch 42/50\n",
      "7/7 [==============================] - 0s 56ms/step - loss: 1.0986 - accuracy: 1.0000 - val_accuracy: 1.0000 - val_loss: 1.0986\n",
      "Epoch 43/50\n",
      "7/7 [==============================] - 0s 57ms/step - loss: 1.0986 - accuracy: 1.0000 - val_accuracy: 1.0000 - val_loss: 1.0986\n",
      "Epoch 44/50\n",
      "7/7 [==============================] - 0s 59ms/step - loss: 1.0986 - accuracy: 1.0000 - val_accuracy: 1.0000 - val_loss: 1.0986\n",
      "Epoch 45/50\n",
      "7/7 [==============================] - 0s 56ms/step - loss: 1.0986 - accuracy: 1.0000 - val_accuracy: 1.0000 - val_loss: 1.0986\n",
      "Epoch 46/50\n",
      "7/7 [==============================] - 0s 62ms/step - loss: 1.0986 - accuracy: 1.0000 - val_accuracy: 1.0000 - val_loss: 1.0986\n",
      "Epoch 47/50\n",
      "7/7 [==============================] - 0s 59ms/step - loss: 1.0986 - accuracy: 1.0000 - val_accuracy: 1.0000 - val_loss: 1.0986\n",
      "Epoch 48/50\n",
      "7/7 [==============================] - 0s 58ms/step - loss: 1.0986 - accuracy: 1.0000 - val_accuracy: 1.0000 - val_loss: 1.0986\n",
      "Epoch 49/50\n",
      "7/7 [==============================] - 0s 62ms/step - loss: 1.0986 - accuracy: 1.0000 - val_accuracy: 1.0000 - val_loss: 1.0986\n",
      "Epoch 50/50\n",
      "7/7 [==============================] - 0s 60ms/step - loss: 1.0986 - accuracy: 1.0000 - val_accuracy: 1.0000 - val_loss: 1.0986\n"
     ]
    }
   ],
   "source": [
    "history = model.fit(train_data,\n",
    "                    epochs=epochs,\n",
    "                    validation_data=test_data)"
   ]
  },
  {
   "cell_type": "code",
   "execution_count": 19,
   "metadata": {},
   "outputs": [
    {
     "data": {
      "image/png": "[encoded data removed]",
      "text/plain": [
       "<Figure size 576x576 with 2 Axes>"
      ]
     },
     "metadata": {
      "needs_background": "light"
     },
     "output_type": "display_data"
    }
   ],
   "source": [
    "acc = history.history['accuracy']\n",
    "val_acc = history.history['val_accuracy']\n",
    "loss = history.history['loss']\n",
    "val_loss = history.history['val_loss']\n",
    "plt.figure(figsize=(8, 8))\n",
    "plt.subplot(2, 1, 1)\n",
    "plt.plot(acc, label='Training Accuracy')\n",
    "plt.plot(val_acc, label='Validation Accuracy')\n",
    "plt.legend(loc='lower right')\n",
    "plt.ylabel('Accuracy')\n",
    "plt.ylim([min(plt.ylim()), 1])\n",
    "plt.title('Training and Validation Accuracy')\n",
    "plt.subplot(2, 1, 2)\n",
    "plt.plot(loss, label='Training Loss')\n",
    "plt.plot(val_loss, label='Validation Loss')\n",
    "plt.legend(loc='upper right')\n",
    "plt.ylabel('Cross Entropy')\n",
    "plt.ylim([0, 1.0])\n",
    "plt.title('Training and Validation Loss')\n",
    "plt.xlabel('epoch')\n",
    "plt.show()"
   ]
  },
  {
   "cell_type": "code",
   "execution_count": 21,
   "metadata": {},
   "outputs": [
    {
     "name": "stdout",
     "output_type": "stream",
     "text": [
      "Model Saved to save/fine_tuning.h5\n"
     ]
    }
   ],
   "source": [
    "saved_model_dir = './model.h5'\n",
    "model.save(saved_model_dir)\n",
    "print(\"Model Saved to save/fine_tuning.h5\")\n",
    "\n",
    "converter = tf.lite.TFLiteConverter.from_keras_model(model)\n",
    "\n",
    "#converter = tf.lite.TFLiteConverter.from_keras_model_file(model)\n",
    "tflite_model = converter.convert()\n",
    "with open('model.tflite', 'wb') as f:\n",
    "    f.write(tflite_model)"
   ]
  },
  {
   "cell_type": "code",
   "execution_count": null,
   "metadata": {},
   "outputs": [],
   "source": []
  }
 ],
 "metadata": {
  "kernelspec": {
   "display_name": "Python 3",
   "language": "python",
   "name": "python3"
  },
  "language_info": {
   "codemirror_mode": {
    "name": "ipython",
    "version": 3
   },
   "file_extension": ".py",
   "mimetype": "text/x-python",
   "name": "python",
   "nbconvert_exporter": "python",
   "pygments_lexer": "ipython3",
   "version": "3.5.6"
  }
 },
 "nbformat": 4,
 "nbformat_minor": 4
}
