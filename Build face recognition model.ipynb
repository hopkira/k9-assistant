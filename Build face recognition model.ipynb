{
 "cells": [
  {
   "cell_type": "code",
   "execution_count": 1,
   "metadata": {},
   "outputs": [],
   "source": [
    "import tensorflow as tf"
   ]
  },
  {
   "cell_type": "code",
   "execution_count": 2,
   "metadata": {},
   "outputs": [],
   "source": [
    "import os"
   ]
  },
  {
   "cell_type": "code",
   "execution_count": 3,
   "metadata": {},
   "outputs": [],
   "source": [
    "import numpy as np\n",
    "import matplotlib.pyplot as plt\n",
    "%matplotlib inline"
   ]
  },
  {
   "cell_type": "code",
   "execution_count": 4,
   "metadata": {},
   "outputs": [],
   "source": [
    "directory =r\"/Users/richardhopkins/Documents/GitHub/k9-assistant/data/\""
   ]
  },
  {
   "cell_type": "code",
   "execution_count": 5,
   "metadata": {},
   "outputs": [],
   "source": [
    "SIZE = 224"
   ]
  },
  {
   "cell_type": "code",
   "execution_count": 6,
   "metadata": {},
   "outputs": [],
   "source": [
    "BATCH_SIZE = 5"
   ]
  },
  {
   "cell_type": "code",
   "execution_count": 7,
   "metadata": {},
   "outputs": [],
   "source": [
    "image_conv = tf.keras.preprocessing.image.ImageDataGenerator(validation_split=0.3)"
   ]
  },
  {
   "cell_type": "code",
   "execution_count": 8,
   "metadata": {},
   "outputs": [
    {
     "name": "stdout",
     "output_type": "stream",
     "text": [
      "Found 14 images belonging to 2 classes.\n"
     ]
    }
   ],
   "source": [
    "train_data = image_conv.flow_from_directory(\n",
    "    directory, \n",
    "    target_size=(SIZE, SIZE), \n",
    "    color_mode='rgb', \n",
    "    classes=None, \n",
    "    class_mode='categorical', \n",
    "    batch_size= BATCH_SIZE, \n",
    "    shuffle=True,\n",
    "    subset = 'training'\n",
    "    )"
   ]
  },
  {
   "cell_type": "code",
   "execution_count": 9,
   "metadata": {},
   "outputs": [
    {
     "name": "stdout",
     "output_type": "stream",
     "text": [
      "Found 6 images belonging to 2 classes.\n"
     ]
    }
   ],
   "source": [
    "test_data = image_conv.flow_from_directory(\n",
    "    directory, \n",
    "    target_size=(SIZE, SIZE), \n",
    "    color_mode='rgb', \n",
    "    classes=None, \n",
    "    class_mode='categorical', \n",
    "    batch_size=BATCH_SIZE, \n",
    "    shuffle=True,\n",
    "    subset = 'validation'\n",
    ")"
   ]
  },
  {
   "cell_type": "code",
   "execution_count": 10,
   "metadata": {},
   "outputs": [],
   "source": [
    "for image_batch, label_batch in train_data:\n",
    "    break"
   ]
  },
  {
   "cell_type": "code",
   "execution_count": 11,
   "metadata": {},
   "outputs": [
    {
     "name": "stdout",
     "output_type": "stream",
     "text": [
      "{'julia': 0, 'richard': 1}\n"
     ]
    }
   ],
   "source": [
    "print(test_data.class_indices)"
   ]
  },
  {
   "cell_type": "code",
   "execution_count": 12,
   "metadata": {},
   "outputs": [],
   "source": [
    "input_shape = train_data.image_shape"
   ]
  },
  {
   "cell_type": "code",
   "execution_count": 13,
   "metadata": {},
   "outputs": [],
   "source": [
    "labels = '\\n'.join(sorted(train_data.class_indices.keys()))\n",
    "with open('labels.txt', 'w') as f:\n",
    "    f.write(labels)"
   ]
  },
  {
   "cell_type": "code",
   "execution_count": 14,
   "metadata": {},
   "outputs": [],
   "source": [
    "base_model = tf.keras.applications.MobileNetV2(\n",
    "    input_shape=input_shape,\n",
    "    include_top=False,\n",
    "    weights='imagenet')"
   ]
  },
  {
   "cell_type": "code",
   "execution_count": 15,
   "metadata": {},
   "outputs": [],
   "source": [
    "base_model.trainable = False"
   ]
  },
  {
   "cell_type": "code",
   "execution_count": 16,
   "metadata": {},
   "outputs": [],
   "source": [
    "model = tf.keras.Sequential([\n",
    "    base_model,\n",
    "    tf.keras.layers.Conv2D(32, 3, activation='relu'),\n",
    "    tf.keras.layers.Dropout(0.2),\n",
    "    tf.keras.layers.GlobalAveragePooling2D(),\n",
    "    tf.keras.layers.Dense(2, activation='softmax')\n",
    "])"
   ]
  },
  {
   "cell_type": "code",
   "execution_count": 17,
   "metadata": {},
   "outputs": [],
   "source": [
    "model.compile(optimizer=tf.keras.optimizers.Adam(learning_rate=0.0001),\n",
    "              loss='categorical_crossentropy',\n",
    "              metrics=['accuracy'])"
   ]
  },
  {
   "cell_type": "code",
   "execution_count": 18,
   "metadata": {},
   "outputs": [
    {
     "name": "stdout",
     "output_type": "stream",
     "text": [
      "Model: \"sequential\"\n",
      "_________________________________________________________________\n",
      "Layer (type)                 Output Shape              Param #   \n",
      "=================================================================\n",
      "mobilenetv2_1.00_224 (Model) (None, 7, 7, 1280)        2257984   \n",
      "_________________________________________________________________\n",
      "conv2d (Conv2D)              (None, 5, 5, 32)          368672    \n",
      "_________________________________________________________________\n",
      "dropout (Dropout)            (None, 5, 5, 32)          0         \n",
      "_________________________________________________________________\n",
      "global_average_pooling2d (Gl (None, 32)                0         \n",
      "_________________________________________________________________\n",
      "dense (Dense)                (None, 2)                 66        \n",
      "=================================================================\n",
      "Total params: 2,626,722\n",
      "Trainable params: 368,738\n",
      "Non-trainable params: 2,257,984\n",
      "_________________________________________________________________\n"
     ]
    }
   ],
   "source": [
    "model.summary()"
   ]
  },
  {
   "cell_type": "code",
   "execution_count": 19,
   "metadata": {},
   "outputs": [
    {
     "name": "stdout",
     "output_type": "stream",
     "text": [
      "Number of trainable variables = 4\n"
     ]
    }
   ],
   "source": [
    "print('Number of trainable variables = {}'.format(len(model.trainable_variables)))"
   ]
  },
  {
   "cell_type": "code",
   "execution_count": 20,
   "metadata": {},
   "outputs": [],
   "source": [
    "epochs = 50"
   ]
  },
  {
   "cell_type": "code",
   "execution_count": 21,
   "metadata": {},
   "outputs": [
    {
     "name": "stdout",
     "output_type": "stream",
     "text": [
      "Epoch 1/50\n",
      "3/3 [==============================] - 2s 503ms/step - loss: 1.0546 - accuracy: 0.4286 - val_accuracy: 0.5000 - val_loss: 0.9022\n",
      "Epoch 2/50\n",
      "3/3 [==============================] - 1s 190ms/step - loss: 1.0389 - accuracy: 0.5000 - val_accuracy: 0.5000 - val_loss: 1.1445\n",
      "Epoch 3/50\n",
      "3/3 [==============================] - 1s 185ms/step - loss: 0.6011 - accuracy: 0.5714 - val_accuracy: 0.6667 - val_loss: 0.6591\n",
      "Epoch 4/50\n",
      "3/3 [==============================] - 1s 207ms/step - loss: 0.2959 - accuracy: 1.0000 - val_accuracy: 0.6667 - val_loss: 0.5305\n",
      "Epoch 5/50\n",
      "3/3 [==============================] - 1s 201ms/step - loss: 0.3014 - accuracy: 0.9286 - val_accuracy: 0.6667 - val_loss: 0.5480\n",
      "Epoch 6/50\n",
      "3/3 [==============================] - 1s 216ms/step - loss: 0.2741 - accuracy: 0.8571 - val_accuracy: 0.6667 - val_loss: 0.4915\n",
      "Epoch 7/50\n",
      "3/3 [==============================] - 1s 238ms/step - loss: 0.1833 - accuracy: 1.0000 - val_accuracy: 0.8333 - val_loss: 0.4294\n",
      "Epoch 8/50\n",
      "3/3 [==============================] - 1s 222ms/step - loss: 0.1299 - accuracy: 1.0000 - val_accuracy: 0.8333 - val_loss: 0.4270\n",
      "Epoch 9/50\n",
      "3/3 [==============================] - 1s 205ms/step - loss: 0.0920 - accuracy: 1.0000 - val_accuracy: 0.8333 - val_loss: 0.4371\n",
      "Epoch 10/50\n",
      "3/3 [==============================] - 1s 201ms/step - loss: 0.0831 - accuracy: 1.0000 - val_accuracy: 0.8333 - val_loss: 0.4083\n",
      "Epoch 11/50\n",
      "3/3 [==============================] - 1s 223ms/step - loss: 0.0616 - accuracy: 1.0000 - val_accuracy: 0.8333 - val_loss: 0.3657\n",
      "Epoch 12/50\n",
      "3/3 [==============================] - 1s 193ms/step - loss: 0.0495 - accuracy: 1.0000 - val_accuracy: 0.8333 - val_loss: 0.2966\n",
      "Epoch 13/50\n",
      "3/3 [==============================] - 1s 239ms/step - loss: 0.0330 - accuracy: 1.0000 - val_accuracy: 0.8333 - val_loss: 0.2838\n",
      "Epoch 14/50\n",
      "3/3 [==============================] - 1s 198ms/step - loss: 0.0348 - accuracy: 1.0000 - val_accuracy: 0.8333 - val_loss: 0.2808\n",
      "Epoch 15/50\n",
      "3/3 [==============================] - 1s 194ms/step - loss: 0.0366 - accuracy: 1.0000 - val_accuracy: 0.8333 - val_loss: 0.2933\n",
      "Epoch 16/50\n",
      "3/3 [==============================] - 1s 210ms/step - loss: 0.0201 - accuracy: 1.0000 - val_accuracy: 0.8333 - val_loss: 0.3271\n",
      "Epoch 17/50\n",
      "3/3 [==============================] - 1s 207ms/step - loss: 0.0171 - accuracy: 1.0000 - val_accuracy: 0.8333 - val_loss: 0.3510\n",
      "Epoch 18/50\n",
      "3/3 [==============================] - 1s 207ms/step - loss: 0.0140 - accuracy: 1.0000 - val_accuracy: 0.8333 - val_loss: 0.3418\n",
      "Epoch 19/50\n",
      "3/3 [==============================] - 1s 238ms/step - loss: 0.0134 - accuracy: 1.0000 - val_accuracy: 0.8333 - val_loss: 0.3255\n",
      "Epoch 20/50\n",
      "3/3 [==============================] - 1s 214ms/step - loss: 0.0114 - accuracy: 1.0000 - val_accuracy: 0.8333 - val_loss: 0.3126\n",
      "Epoch 21/50\n",
      "3/3 [==============================] - 1s 215ms/step - loss: 0.0101 - accuracy: 1.0000 - val_accuracy: 0.8333 - val_loss: 0.3040\n",
      "Epoch 22/50\n",
      "3/3 [==============================] - 1s 202ms/step - loss: 0.0075 - accuracy: 1.0000 - val_accuracy: 0.8333 - val_loss: 0.3045\n",
      "Epoch 23/50\n",
      "3/3 [==============================] - 1s 201ms/step - loss: 0.0070 - accuracy: 1.0000 - val_accuracy: 0.8333 - val_loss: 0.3062\n",
      "Epoch 24/50\n",
      "3/3 [==============================] - 1s 205ms/step - loss: 0.0074 - accuracy: 1.0000 - val_accuracy: 0.8333 - val_loss: 0.3100\n",
      "Epoch 25/50\n",
      "3/3 [==============================] - 1s 201ms/step - loss: 0.0062 - accuracy: 1.0000 - val_accuracy: 0.8333 - val_loss: 0.3164\n",
      "Epoch 26/50\n",
      "3/3 [==============================] - 1s 208ms/step - loss: 0.0067 - accuracy: 1.0000 - val_accuracy: 0.8333 - val_loss: 0.3241\n",
      "Epoch 27/50\n",
      "3/3 [==============================] - 1s 196ms/step - loss: 0.0045 - accuracy: 1.0000 - val_accuracy: 0.8333 - val_loss: 0.3301\n",
      "Epoch 28/50\n",
      "3/3 [==============================] - 1s 226ms/step - loss: 0.0059 - accuracy: 1.0000 - val_accuracy: 0.8333 - val_loss: 0.3382\n",
      "Epoch 29/50\n",
      "3/3 [==============================] - 1s 205ms/step - loss: 0.0055 - accuracy: 1.0000 - val_accuracy: 0.8333 - val_loss: 0.3483\n",
      "Epoch 30/50\n",
      "3/3 [==============================] - 1s 197ms/step - loss: 0.0044 - accuracy: 1.0000 - val_accuracy: 0.8333 - val_loss: 0.3565\n",
      "Epoch 31/50\n",
      "3/3 [==============================] - 1s 210ms/step - loss: 0.0042 - accuracy: 1.0000 - val_accuracy: 0.8333 - val_loss: 0.3576\n",
      "Epoch 32/50\n",
      "3/3 [==============================] - 1s 222ms/step - loss: 0.0041 - accuracy: 1.0000 - val_accuracy: 0.8333 - val_loss: 0.3566\n",
      "Epoch 33/50\n",
      "3/3 [==============================] - 1s 187ms/step - loss: 0.0040 - accuracy: 1.0000 - val_accuracy: 0.8333 - val_loss: 0.3541\n",
      "Epoch 34/50\n",
      "3/3 [==============================] - 1s 227ms/step - loss: 0.0052 - accuracy: 1.0000 - val_accuracy: 0.8333 - val_loss: 0.3490\n",
      "Epoch 35/50\n",
      "3/3 [==============================] - 1s 225ms/step - loss: 0.0039 - accuracy: 1.0000 - val_accuracy: 0.8333 - val_loss: 0.3437\n",
      "Epoch 36/50\n",
      "3/3 [==============================] - 1s 224ms/step - loss: 0.0054 - accuracy: 1.0000 - val_accuracy: 0.8333 - val_loss: 0.3480\n",
      "Epoch 37/50\n",
      "3/3 [==============================] - 1s 193ms/step - loss: 0.0035 - accuracy: 1.0000 - val_accuracy: 0.8333 - val_loss: 0.3505\n",
      "Epoch 38/50\n",
      "3/3 [==============================] - 1s 195ms/step - loss: 0.0026 - accuracy: 1.0000 - val_accuracy: 0.8333 - val_loss: 0.3498\n",
      "Epoch 39/50\n",
      "3/3 [==============================] - 1s 206ms/step - loss: 0.0036 - accuracy: 1.0000 - val_accuracy: 0.8333 - val_loss: 0.3518\n",
      "Epoch 40/50\n",
      "3/3 [==============================] - 1s 193ms/step - loss: 0.0028 - accuracy: 1.0000 - val_accuracy: 0.8333 - val_loss: 0.3515\n",
      "Epoch 41/50\n",
      "3/3 [==============================] - 1s 208ms/step - loss: 0.0027 - accuracy: 1.0000 - val_accuracy: 0.8333 - val_loss: 0.3548\n",
      "Epoch 42/50\n",
      "3/3 [==============================] - 1s 212ms/step - loss: 0.0034 - accuracy: 1.0000 - val_accuracy: 0.8333 - val_loss: 0.3600\n",
      "Epoch 43/50\n",
      "3/3 [==============================] - 1s 202ms/step - loss: 0.0025 - accuracy: 1.0000 - val_accuracy: 0.8333 - val_loss: 0.3631\n",
      "Epoch 44/50\n",
      "3/3 [==============================] - 1s 220ms/step - loss: 0.0025 - accuracy: 1.0000 - val_accuracy: 0.8333 - val_loss: 0.3635\n",
      "Epoch 45/50\n",
      "3/3 [==============================] - 1s 207ms/step - loss: 0.0023 - accuracy: 1.0000 - val_accuracy: 0.8333 - val_loss: 0.3632\n",
      "Epoch 46/50\n",
      "3/3 [==============================] - 1s 218ms/step - loss: 0.0028 - accuracy: 1.0000 - val_accuracy: 0.8333 - val_loss: 0.3616\n",
      "Epoch 47/50\n",
      "3/3 [==============================] - 1s 218ms/step - loss: 0.0021 - accuracy: 1.0000 - val_accuracy: 0.8333 - val_loss: 0.3608\n",
      "Epoch 48/50\n",
      "3/3 [==============================] - 1s 232ms/step - loss: 0.0028 - accuracy: 1.0000 - val_accuracy: 0.8333 - val_loss: 0.3566\n",
      "Epoch 49/50\n",
      "3/3 [==============================] - 1s 224ms/step - loss: 0.0025 - accuracy: 1.0000 - val_accuracy: 0.8333 - val_loss: 0.3516\n",
      "Epoch 50/50\n",
      "3/3 [==============================] - 1s 220ms/step - loss: 0.0023 - accuracy: 1.0000 - val_accuracy: 0.8333 - val_loss: 0.3502\n"
     ]
    }
   ],
   "source": [
    "history = model.fit(train_data,\n",
    "                    epochs=epochs,\n",
    "                    validation_data=test_data)"
   ]
  },
  {
   "cell_type": "code",
   "execution_count": 22,
   "metadata": {},
   "outputs": [
    {
     "data": {
      "image/png": "[encoded data removed]",
      "text/plain": [
       "<Figure size 576x576 with 2 Axes>"
      ]
     },
     "metadata": {
      "needs_background": "light"
     },
     "output_type": "display_data"
    }
   ],
   "source": [
    "acc = history.history['accuracy']\n",
    "val_acc = history.history['val_accuracy']\n",
    "loss = history.history['loss']\n",
    "val_loss = history.history['val_loss']\n",
    "plt.figure(figsize=(8, 8))\n",
    "plt.subplot(2, 1, 1)\n",
    "plt.plot(acc, label='Training Accuracy')\n",
    "plt.plot(val_acc, label='Validation Accuracy')\n",
    "plt.legend(loc='lower right')\n",
    "plt.ylabel('Accuracy')\n",
    "plt.ylim([min(plt.ylim()), 1])\n",
    "plt.title('Training and Validation Accuracy')\n",
    "plt.subplot(2, 1, 2)\n",
    "plt.plot(loss, label='Training Loss')\n",
    "plt.plot(val_loss, label='Validation Loss')\n",
    "plt.legend(loc='upper right')\n",
    "plt.ylabel('Cross Entropy')\n",
    "plt.ylim([0, 1.0])\n",
    "plt.title('Training and Validation Loss')\n",
    "plt.xlabel('epoch')\n",
    "plt.show()"
   ]
  },
  {
   "cell_type": "code",
   "execution_count": 23,
   "metadata": {},
   "outputs": [
    {
     "name": "stdout",
     "output_type": "stream",
     "text": [
      "Model Saved to save/fine_tuning.h5\n"
     ]
    }
   ],
   "source": [
    "saved_model_dir = './model.h5'\n",
    "model.save(saved_model_dir)\n",
    "print(\"Model Saved to save/fine_tuning.h5\")\n",
    "\n",
    "converter = tf.lite.TFLiteConverter.from_keras_model(model)\n",
    "\n",
    "#converter = tf.lite.TFLiteConverter.from_keras_model_file(model)\n",
    "tflite_model = converter.convert()\n",
    "with open('model.tflite', 'wb') as f:\n",
    "    f.write(tflite_model)"
   ]
  },
  {
   "cell_type": "code",
   "execution_count": null,
   "metadata": {},
   "outputs": [],
   "source": []
  },
  {
   "cell_type": "code",
   "execution_count": null,
   "metadata": {},
   "outputs": [],
   "source": []
  },
  {
   "cell_type": "code",
   "execution_count": null,
   "metadata": {},
   "outputs": [],
   "source": []
  },
  {
   "cell_type": "code",
   "execution_count": null,
   "metadata": {},
   "outputs": [],
   "source": []
  }
 ],
 "metadata": {
  "kernelspec": {
   "display_name": "Python 3",
   "language": "python",
   "name": "python3"
  },
  "language_info": {
   "codemirror_mode": {
    "name": "ipython",
    "version": 3
   },
   "file_extension": ".py",
   "mimetype": "text/x-python",
   "name": "python",
   "nbconvert_exporter": "python",
   "pygments_lexer": "ipython3",
   "version": "3.5.6"
  }
 },
 "nbformat": 4,
 "nbformat_minor": 4
}
